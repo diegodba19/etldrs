{
 "cells": [
  {
   "cell_type": "code",
   "execution_count": null,
   "id": "66a0754f-020e-4b77-bdda-f6880cc35d16",
   "metadata": {},
   "outputs": [
    {
     "name": "stdout",
     "output_type": "stream",
     "text": [
      "Partición guardada en C:\\Users\\Diego Rodriguez\\Documents\\Drs\\python\\py2\\Python24\\ETL\\data\\data_2023.csv\n",
      "Partición guardada en C:\\Users\\Diego Rodriguez\\Documents\\Drs\\python\\py2\\Python24\\ETL\\data\\data_2024.csv\n"
     ]
    }
   ],
   "source": [
    "#Particionamiento de Datos - Ruta personalizada\n",
    "import pandas as pd\n",
    "import os\n",
    "\n",
    "# Ruta del archivo data_completa.csv\n",
    "archivo_completo = r'C:\\Users\\Diego Rodriguez\\Documents\\Drs\\python\\py2\\Python24\\ETL\\data\\data_completo.csv'\n",
    "\n",
    "# Ruta de destino para los archivos particionados\n",
    "ruta_destino = r'C:\\Users\\Diego Rodriguez\\Documents\\Drs\\python\\py2\\Python24\\ETL\\data'\n",
    "\n",
    "# Función para particionar los datos por año\n",
    "def particion_por_año(archivo_completo_path, ruta_destino):\n",
    "    # Leer el archivo completo\n",
    "    df = pd.read_csv(archivo_completo_path)\n",
    "    \n",
    "    # Particionar por año\n",
    "    for año, df_año in df.groupby('año'):\n",
    "        # Crear el nombre del archivo para cada año en la ruta de destino\n",
    "        nombre_archivo = os.path.join(ruta_destino, f\"data_{año}.csv\")\n",
    "        # Guardar el DataFrame del año en un archivo CSV\n",
    "        df_año.to_csv(nombre_archivo, index=False)\n",
    "        print(f\"Partición guardada en {nombre_archivo}\")\n",
    "\n",
    "# Llamar a la función para particionar el archivo por año\n",
    "particion_por_año(archivo_completo, ruta_destino)\n",
    "\n"
   ]
  }
 ],
 "metadata": {
  "kernelspec": {
   "display_name": "venv",
   "language": "python",
   "name": "python3"
  },
  "language_info": {
   "codemirror_mode": {
    "name": "ipython",
    "version": 3
   },
   "file_extension": ".py",
   "mimetype": "text/x-python",
   "name": "python",
   "nbconvert_exporter": "python",
   "pygments_lexer": "ipython3",
   "version": "3.11.4"
  }
 },
 "nbformat": 4,
 "nbformat_minor": 5
}
